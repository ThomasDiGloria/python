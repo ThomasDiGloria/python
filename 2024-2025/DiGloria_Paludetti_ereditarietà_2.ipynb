{
  "nbformat": 4,
  "nbformat_minor": 0,
  "metadata": {
    "colab": {
      "provenance": []
    },
    "kernelspec": {
      "name": "python3",
      "display_name": "Python 3"
    },
    "language_info": {
      "name": "python"
    }
  },
  "cells": [
    {
      "cell_type": "markdown",
      "source": [
        "# 4) Gestione catena di residenze per studenti e insegnanti\n",
        "Una catena di residenze per studenti e insegnanti vuole gestire in modo automatizzato l'affitto di stanze per il personale universitario.\n",
        "La catena dispone di più strutture residenziali dislocate sul territorio,\n",
        "ogni residenza può ospitare studenti e insegnanti. Gli ospiti della residenza affittano la stanza per n mesi e pagano una quota mensile. Gli amministratori della catena vogliono conoscere per ogni residenza il numero di ospiti presenti e l'incasso previsto in base al numero di mesi e al canone mensile corrisposto da ciascun ospite. Completare il codice seguente implementando i vari metodi ed aggiungendo gli attributi necessari per la gestione della contabilità.\n",
        "\n",
        "\n",
        "```\n",
        "# Definire una classe base Persona dalla quale derivare le classi Studente e Insegnante.\n",
        "Definire una classe Residenza, che conterrà gli oggetti di tipo Studente e Insegnante e una classe Catena,\n",
        "che conterrà gli oggetti di tipo Residenza.\n",
        "```\n",
        "\n"
      ],
      "metadata": {
        "id": "vjq28u8rwgJt"
      }
    },
    {
      "cell_type": "code",
      "source": [
        "class Persona:\n",
        "  def __init__(self, nome, cognome, eta, residenza):\n",
        "    self.nome = nome\n",
        "    self.cognome = cognome\n",
        "    self.eta = eta\n",
        "    self.residenza = residenza\n",
        "\n",
        "  def scheda_personale(self):\n",
        "    return f\"Nome: {self.nome}\\nCognome: {self.cognome}\\nEtà: {self.eta}\\nResidenza: {self.residenza}\"\n",
        "\n",
        "  def modifica_scheda(self):\n",
        "    valore =input(\"Inserisci cosa vuoi modificare:\\n1.nome,\\n2.cognome,\\n3.eta,\\n4.residenza\\n\")\n",
        "    match valore:\n",
        "        case \"1\":\n",
        "            self.nome = input(\"Inserisci il nuovo nome: \")\n",
        "        case \"2\":\n",
        "            self.cognome = input(\"Inserisci il nuovo cognome: \")\n",
        "        case \"3\":\n",
        "            self.eta = int(input(\"Inserisci la nuova età: \"))\n",
        "        case \"4\":\n",
        "            self.residenza = input(\"Inserisci la nuova residenza: \")"
      ],
      "metadata": {
        "id": "g4_UvXgyg4e-"
      },
      "execution_count": null,
      "outputs": []
    },
    {
      "cell_type": "code",
      "source": [
        "class Studente(Persona):\n",
        "    def __init__(self,nome, cognome, eta, residenza):\n",
        "        super().__init__(nome, cognome, eta, residenza)\n",
        "\n",
        "class Insegnante(Persona):\n",
        "    def __init__(self,nome, cognome, eta, residenza):\n",
        "        super().__init__(nome, cognome, eta, residenza)"
      ],
      "metadata": {
        "id": "MQIoGVRJMNdg"
      },
      "execution_count": null,
      "outputs": []
    },
    {
      "cell_type": "code",
      "source": [
        "studente_uno = Studente(\"Marco\", \"Verdi\", 24, \"Casa Dello Studente\")\n",
        "insegnante_uno = Insegnante(\"Mario\", \"Rossi\", 33, \"Viale Roma 32\")\n",
        "print(studente_uno.scheda_personale())\n",
        "print(insegnante_uno.scheda_personale())"
      ],
      "metadata": {
        "colab": {
          "base_uri": "https://localhost:8080/"
        },
        "id": "TItdUy9uh0BC",
        "outputId": "1e64ceb7-d551-4561-d9d4-a5b8dbef5e19"
      },
      "execution_count": null,
      "outputs": [
        {
          "output_type": "stream",
          "name": "stdout",
          "text": [
            "Nome: Marco\n",
            "Cognome: Verdi\n",
            "Età: 24\n",
            "Residenza: Casa Dello Studente\n",
            "Nome: Mario\n",
            "Cognome: Rossi\n",
            "Età: 33\n",
            "Residenza: Viale Roma 32\n"
          ]
        }
      ]
    },
    {
      "cell_type": "code",
      "source": [
        "class Studente(Persona):\n",
        "  profilo = \"Studente\"\n",
        "\n",
        "  def __init__(self,nome, cognome, eta, residenza, corso_di_studio):\n",
        "    super().__init__(nome, cognome, eta, residenza)\n",
        "    self.corso_di_studio = corso_di_studio\n",
        "\n",
        "  def scheda_personale(self):\n",
        "    scheda = f\"\"\"\n",
        "Profilo:{Studente.profilo}\n",
        "Corso di Studi:{self.corso_di_studio}\n",
        "***\"\"\"\n",
        "    return super().scheda_personale() + scheda\n",
        "\n",
        "  def cambio_corso(self,corso):\n",
        "    self.corso_di_studio = corso\n",
        "    print(\"Corso modificato con successo\")\n",
        "\n",
        "\n",
        "\n",
        "class Insegnante(Persona):\n",
        "  profilo = \"Insegnante\"\n",
        "\n",
        "  def __init__(self,nome, cognome, eta, residenza, materie=None):\n",
        "    super().__init__(nome, cognome, eta, residenza)\n",
        "    self.materie = materie or []\n",
        "\n",
        "  def scheda_personale(self):\n",
        "     scheda = f\"\"\"\n",
        "Profilo:{Insegnante.profilo}\n",
        "Materie Insegnante:{self.materie}\n",
        "***\"\"\"\n",
        "     return super().scheda_personale() + scheda\n",
        "\n",
        "\n",
        "  def aggiungi_materia(self):\n",
        "    for i in range(nMaterie):\n",
        "            materiaIns = input(\"Inserisci la materia: \")\n",
        "            for mat in materie:\n",
        "                if mat != materiaIns:\n",
        "                    self.materie.append(materiaIns)\n",
        "                else:\n",
        "                    print(\"materia già presente\")\n",
        "\n",
        "    \"\"\"\n",
        "  def aggiungi_materia(self):\n",
        "    nMaterie= int(input(\"Inserisci il numero di materie: \"))\n",
        "    if(nMaterie > 1):\n",
        "        for i in range(nMaterie):\n",
        "            materiaIns = input(\"Inserisci la materia: \")\n",
        "            for mat in materie:\n",
        "                if mat == materiaIns:\n",
        "                    self.materie.append(materiaIns)\n",
        "    else:\n",
        "        materiaIns = input(\"Inserisci la materia: \")\n",
        "            for mat in materie:\n",
        "                if mat == materiaIns:\n",
        "                    self.materie.append(materiaIns)\n",
        "                    break\n",
        "\"\"\""
      ],
      "metadata": {
        "id": "95qHDqz-ii-k"
      },
      "execution_count": null,
      "outputs": []
    },
    {
      "cell_type": "code",
      "source": [
        "studente_due = Studente(\"Marta\", \"Gialli\", 24, \"Casa Della Studentessa\",\"Corso informatica 1\")\n",
        "insegnante_due = Insegnante(\"Maria\", \"Rosa\", 33, \"Viale Roma 62\",['sistemi','tpsi'])\n",
        "print(studente_due.scheda_personale())\n",
        "print(insegnante_due.scheda_personale())"
      ],
      "metadata": {
        "colab": {
          "base_uri": "https://localhost:8080/"
        },
        "id": "oMTkAILFjcXO",
        "outputId": "4764d056-86b2-4eb0-e13d-5f3779c83735"
      },
      "execution_count": null,
      "outputs": [
        {
          "output_type": "stream",
          "name": "stdout",
          "text": [
            "Nome: Marta\n",
            "Cognome: Gialli\n",
            "Età: 24\n",
            "Residenza: Casa Della Studentessa\n",
            "Profilo:Studente\n",
            "Corso di Studi:Corso informatica 1\n",
            "***\n",
            "Nome: Maria\n",
            "Cognome: Rosa\n",
            "Età: 33\n",
            "Residenza: Viale Roma 62\n",
            "Profilo:Insegnante\n",
            "Materie Insegnante:['sistemi', 'tpsi']\n",
            "***\n"
          ]
        }
      ]
    },
    {
      "cell_type": "code",
      "source": [
        "insegnante_due.modifica_scheda()"
      ],
      "metadata": {
        "id": "jToBO836kmBG",
        "collapsed": true
      },
      "execution_count": null,
      "outputs": []
    },
    {
      "cell_type": "code",
      "source": [
        "print(insegnante_due.scheda_personale())"
      ],
      "metadata": {
        "colab": {
          "base_uri": "https://localhost:8080/"
        },
        "id": "vv4ArcsYkzaQ",
        "outputId": "79b8527a-d237-46a5-921c-ad8dd95c362a"
      },
      "execution_count": null,
      "outputs": [
        {
          "output_type": "stream",
          "name": "stdout",
          "text": [
            "Nome: Maria\n",
            "Cognome: Rosa\n",
            "Età: 33\n",
            "Residenza: Viale Roma 62\n",
            "Profilo:Insegnante\n",
            "Materie Insegnante:['sistemi', 'tpsi']\n",
            "***\n"
          ]
        }
      ]
    },
    {
      "cell_type": "code",
      "source": [
        "insegnante_due.aggiungi_materia()"
      ],
      "metadata": {
        "colab": {
          "base_uri": "https://localhost:8080/"
        },
        "id": "8ni32G-utpbX",
        "outputId": "d14e2407-a902-4bc4-e680-467af6df343f"
      },
      "execution_count": null,
      "outputs": [
        {
          "name": "stdout",
          "output_type": "stream",
          "text": [
            "Inserisci il numero di materie: 1\n",
            "Inserisci la materia: Italiano\n"
          ]
        }
      ]
    },
    {
      "cell_type": "code",
      "source": [
        "print(insegnante_due.scheda_personale())"
      ],
      "metadata": {
        "colab": {
          "base_uri": "https://localhost:8080/"
        },
        "id": "toAnB577t8VC",
        "outputId": "5f3cdcb9-1a72-4d36-f723-6a21d36ee19d"
      },
      "execution_count": null,
      "outputs": [
        {
          "output_type": "stream",
          "name": "stdout",
          "text": [
            "Nome: Maria\n",
            "Cognome: Rosa\n",
            "Età: 33\n",
            "Residenza: Viale Roma 62\n",
            "Profilo:Insegnante\n",
            "Materie Insegnante:['sistemi', 'tpsi']\n",
            "***\n"
          ]
        }
      ]
    },
    {
      "cell_type": "code",
      "source": [
        "studente_due.cambio_corso(\"Informatica\")"
      ],
      "metadata": {
        "colab": {
          "base_uri": "https://localhost:8080/"
        },
        "id": "yPGYE9LPuPZQ",
        "outputId": "ababa4a8-2279-48a9-e97b-13e439e85276"
      },
      "execution_count": null,
      "outputs": [
        {
          "output_type": "stream",
          "name": "stdout",
          "text": [
            "Corso modificato con successo\n"
          ]
        }
      ]
    },
    {
      "cell_type": "code",
      "source": [
        "print(studente_due.scheda_personale())"
      ],
      "metadata": {
        "colab": {
          "base_uri": "https://localhost:8080/"
        },
        "id": "Fqo1Ma_7ukcL",
        "outputId": "67a50863-c276-444c-b80d-4952bf4d75c5"
      },
      "execution_count": null,
      "outputs": [
        {
          "output_type": "stream",
          "name": "stdout",
          "text": [
            "Nome: Marta\n",
            "Cognome: Gialli\n",
            "Età: 24\n",
            "Residenza: Casa Della Studentessa\n",
            "Profilo:Studente\n",
            "Corso di Studi:Corso informatica 1\n",
            "***\n"
          ]
        }
      ]
    },
    {
      "cell_type": "code",
      "source": [
        "class Residenza():\n",
        "  profilo = \"Casa dello studente\"\n",
        "\n",
        "  def __init__(self,nome, indirizzo,capienza):\n",
        "      self.nome = nome\n",
        "      self.indirizzo = indirizzo\n",
        "      self.capienza = capienza\n",
        "      self.studenti = []\n",
        "      self.insegnanti = []\n",
        "\n",
        "  def aggiungi_studente(self,studente):\n",
        "      self.studenti.append(studente)\n",
        "      print(\"Studente aggiunto con successo\")\n",
        "\n",
        "  def rimuovi_studente(self,studente):\n",
        "      self.studenti.remove(studente)\n",
        "      print(\"Studente rimosso con successo\")\n",
        "\n",
        "  def elenco_studenti(self):\n",
        "      for i,s in enumerate(self.studenti):\n",
        "          print(f\"Studente: {i+1}\")\n",
        "          print(s.scheda_personale())\n"
      ],
      "metadata": {
        "id": "mjo_D3eYuu6y"
      },
      "execution_count": null,
      "outputs": []
    },
    {
      "cell_type": "code",
      "source": [
        "casa=Residenza(\"Casa 1\",\"Indirizzo 1\",100)\n",
        "casa.aggiungi_studente(studente_uno)\n",
        "casa.aggiungi_studente(studente_due)\n",
        "casa.rimuovi_studente(studente_uno)"
      ],
      "metadata": {
        "colab": {
          "base_uri": "https://localhost:8080/"
        },
        "id": "CeM8AIUNwTei",
        "outputId": "12e2bc61-28e6-424e-bef1-ceee564c6b4e"
      },
      "execution_count": null,
      "outputs": [
        {
          "output_type": "stream",
          "name": "stdout",
          "text": [
            "Studente aggiunto con successo\n",
            "Studente aggiunto con successo\n",
            "Studente rimosso con successo\n"
          ]
        }
      ]
    },
    {
      "cell_type": "code",
      "source": [
        "stud=casa.elenco_studenti()"
      ],
      "metadata": {
        "colab": {
          "base_uri": "https://localhost:8080/"
        },
        "id": "tc_XnCi9wofQ",
        "outputId": "bc56ce1f-87a8-4f84-cf82-ba020ef3fa6e"
      },
      "execution_count": null,
      "outputs": [
        {
          "output_type": "stream",
          "name": "stdout",
          "text": [
            "Studente: 1\n",
            "Nome: Marta\n",
            "Cognome: Gialli\n",
            "Età: 24\n",
            "Residenza: Casa Della Studentessa\n",
            "Profilo:Studente\n",
            "Corso di Studi:Corso informatica 1\n",
            "***\n"
          ]
        }
      ]
    },
    {
      "cell_type": "code",
      "source": [
        "class Catena(Residenza):\n",
        "    def __init__(self,nome, indirizzo, capienza, casa, affitto, numero_ospiti):\n",
        "        super().__init__(nome,indirizzo,capienza)\n",
        "        self.casa = casa\n",
        "        self.residenze = []\n",
        "        self.affitto = affitto\n",
        "        self.numero_ospiti = numero_ospiti\n",
        "\n",
        "    def aggiungi_casa(self,casa):\n",
        "        for home in self.residenze:\n",
        "            if casa != home:\n",
        "                self.residenze.append(casa)\n",
        "                print(\"Casa aggiunta con successo\")\n",
        "            else:\n",
        "                print(\"Casa già presente\")\n",
        "\n",
        "    def rimuovi_casa(self,casa):\n",
        "        self.residenze.remove(casa)\n",
        "        print(\"Casa rimossa con successo\")\n",
        "\n",
        "    def conta_ospiti(self):\n",
        "        for casa in self.residenze:\n",
        "            self.numero_ospiti = self.numero_ospiti + len(casa.studenti)\n"
      ],
      "metadata": {
        "id": "I0UaydQcBKqX"
      },
      "execution_count": null,
      "outputs": []
    }
  ]
}